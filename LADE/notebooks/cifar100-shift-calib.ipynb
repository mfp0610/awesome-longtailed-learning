{
 "cells": [
  {
   "cell_type": "code",
   "execution_count": 1,
   "metadata": {},
   "outputs": [],
   "source": [
    "%matplotlib notebook\n",
    "\n",
    "import numpy as np\n",
    "import matplotlib\n",
    "from glob import glob\n",
    "import matplotlib.pyplot as plt\n",
    "from scipy.special import softmax\n",
    "from tabulate import tabulate\n",
    "import collections\n",
    "from tqdm import tqdm\n",
    "import texttable, latextable\n",
    "from uncertainty_metrics.numpy import ece\n",
    "\n",
    "workdir = '.'"
   ]
  },
  {
   "cell_type": "code",
   "execution_count": 2,
   "metadata": {},
   "outputs": [],
   "source": [
    "def get_prior(split):\n",
    "    assert split in ('train', 'val', 'test')\n",
    "    imb_factor = 0.02\n",
    "    if split == 'train':\n",
    "        img_max = 50000\n",
    "    else:\n",
    "        img_max = 100\n",
    "    img_num_per_cls = []\n",
    "    for cls_idx in range(100):\n",
    "        if split == 'train':\n",
    "            num = img_max * (imb_factor**(cls_idx / (100 - 1.0)))\n",
    "        else:\n",
    "            num = img_max\n",
    "        img_num_per_cls.append(int(num))\n",
    "    img_num_per_cls = np.array(img_num_per_cls)\n",
    "    return img_num_per_cls / img_num_per_cls.sum()"
   ]
  },
  {
   "cell_type": "code",
   "execution_count": 3,
   "metadata": {},
   "outputs": [],
   "source": [
    "def class_distribution(name, img_max=100, class_total=100):\n",
    "    cls_idx = get_prior('train').argsort()    \n",
    "    def imb(imb_factor, reverse):\n",
    "        img_num_per_cls = np.zeros_like(cls_idx)\n",
    "        for idx, cls in enumerate(cls_idx[::-1]):\n",
    "            if reverse:\n",
    "                num = img_max * (imb_factor**((class_total - 1 - idx) / (class_total - 1.0)))\n",
    "            else:\n",
    "                num = img_max * (imb_factor**(idx / (class_total - 1.0)))\n",
    "            img_num_per_cls[cls] = num  \n",
    "        return img_num_per_cls\n",
    "        \n",
    "    \n",
    "    rand_machine = np.random.RandomState(seed=1)\n",
    "    distrb = {\n",
    "        'uniform': np.array([img_max] * class_total),\n",
    "        'forward-50': imb(0.02, False),\n",
    "        'forward-25': imb(0.04, False),\n",
    "        'forward-10': imb(0.1, False),\n",
    "        'forward-5': imb(0.2, False),\n",
    "        'forward-2': imb(0.5, False),\n",
    "        'backward-50': imb(0.02, True),\n",
    "        'backward-25': imb(0.04, True),\n",
    "        'backward-10': imb(0.1, True),\n",
    "        'backward-5': imb(0.2, True),\n",
    "        'backward-2': imb(0.5, True),\n",
    "    }[name]\n",
    "    return distrb, distrb / distrb.sum()\n",
    "\n",
    "\n",
    "def get_mask(labels, distrb):\n",
    "    distrb = np.array(distrb)\n",
    "    mask = np.zeros_like(labels).astype(bool)\n",
    "    for i, label in enumerate(labels):\n",
    "        if distrb[label] > 0:\n",
    "            distrb[label] -= 1\n",
    "            mask[i] = True\n",
    "    return mask\n",
    "\n",
    "def get_prob(logits, prior, name):\n",
    "    old_prior = get_prior('train')\n",
    "    source_logprior = np.log(old_prior)\n",
    "    target_logprior = np.log(prior)\n",
    "    if 'pc_' in name or 'lade' in name:\n",
    "        return softmax(logits + target_logprior, axis=1)\n",
    "    elif 'bs' in name or 'causal' in name:\n",
    "        return softmax(logits, axis=1)\n",
    "    else:\n",
    "        return softmax(logits + source_logprior, axis=1)\n",
    "\n",
    "def get_labels(name, split='test'):\n",
    "    if 'pc_' in name:\n",
    "        name = name[3:]\n",
    "    path = f'{workdir}/lade21-lade/checkpoints/cifar100'\n",
    "    return {\n",
    "        'bs': np.load(f\"{path}/bs/{split}_total_labels.npy\"),\n",
    "        'causal': np.load(f\"{path}/causal/{split}_total_labels.npy\"),\n",
    "        'softmax': np.load(f\"{path}/ce/{split}_total_labels.npy\"),\n",
    "        'lade': np.load(f\"{path}/lade/{split}_total_labels.npy\"),\n",
    "    }[name]\n",
    "\n",
    "def get_logits(name, split='test'):\n",
    "    if 'pc_' in name:\n",
    "        name = name[3:]\n",
    "    path = f'{workdir}/lade21-lade/checkpoints/cifar100'\n",
    "    return {\n",
    "        'bs': np.load(f\"{path}/bs/{split}_total_logits.npy\") - np.log(get_prior('test')),\n",
    "        'causal': np.load(f\"{path}/causal/{split}_total_logits.npy\") - np.log(get_prior('test')),\n",
    "        'softmax': np.load(f\"{path}/ce/{split}_total_logits.npy\") - np.log(get_prior('train')),\n",
    "        'lade': np.load(f\"{path}/lade/{split}_total_logits.npy\") - np.log(get_prior('test')),\n",
    "    }[name]"
   ]
  },
  {
   "cell_type": "markdown",
   "metadata": {},
   "source": [
    "# Evaluate on shifted test set"
   ]
  },
  {
   "cell_type": "code",
   "execution_count": 4,
   "metadata": {
    "scrolled": true
   },
   "outputs": [
    {
     "name": "stderr",
     "output_type": "stream",
     "text": [
      "100%|██████████| 11/11 [00:08<00:00,  1.26it/s]"
     ]
    },
    {
     "name": "stdout",
     "output_type": "stream",
     "text": [
      "dataset        bs    causal    softmax    pc_bs    pc_causal    pc_softmax    lade\n",
      "-----------  ----  --------  ---------  -------  -----------  ------------  ------\n",
      "forward-50   59.6      63.7       65.9     65.9         66.1          66.0    67.4\n",
      "forward-25   58.5      61.6       63.4     63.1         62.9          63.2    64.7\n",
      "forward-10   56.9      58.7       59.7     59.5         58.8          59.2    60.2\n",
      "forward-5    54.8      55.9       55.6     56.3         55.6          55.9    56.3\n",
      "forward-2    52.2      51.5       50.1     52.2         51.2          52.4    52.8\n",
      "uniform      49.9      48.1       45.5     49.9         48.1          49.4    50.5\n",
      "backward-2   47.5      44.7       40.8     47.9         45.7          47.5    48.2\n",
      "backward-5   45.1      41.2       35.2     46.9         44.2          46.7    47.4\n",
      "backward-10  42.7      38.3       30.5     46.4         43.4          46.2    46.6\n",
      "backward-25  40.9      35.6       26.8     47.3         44.3          47.4    48.1\n",
      "backward-50  39.9      33.6       23.9     48.4         44.9          49.0    49.4\n"
     ]
    },
    {
     "name": "stderr",
     "output_type": "stream",
     "text": [
      "\n"
     ]
    }
   ],
   "source": [
    "methods = ['bs', 'causal', 'softmax', 'pc_bs', 'pc_causal', 'pc_softmax', 'lade']\n",
    "table = []\n",
    "for dataset in tqdm([\n",
    "    'forward-50', 'forward-25', 'forward-10', 'forward-5', 'forward-2',\n",
    "    'uniform',\n",
    "    'backward-2', 'backward-5', 'backward-10', 'backward-25', 'backward-50',\n",
    "]):\n",
    "    table.append([dataset])\n",
    "    for method in methods:\n",
    "        distrb, prior = class_distribution(dataset)\n",
    "        labels = get_labels(method)\n",
    "        estims = get_prob(get_logits(method), prior, method).argmax(1)\n",
    "        mask = get_mask(labels, distrb)\n",
    "        table[-1].append((labels[mask] == estims[mask]).mean() * 100)\n",
    "\n",
    "print(tabulate(table, headers=['dataset'] + methods, floatfmt=\".1f\"))\n"
   ]
  },
  {
   "cell_type": "markdown",
   "metadata": {},
   "source": [
    "# Evaluate confidence calibration"
   ]
  },
  {
   "cell_type": "code",
   "execution_count": 5,
   "metadata": {},
   "outputs": [
    {
     "name": "stdout",
     "output_type": "stream",
     "text": [
      "Softmax                        & 45.4600 & 0.249 & 0.769 & 2.50 \\\\\n",
      "Causal Norm                    & 48.0800 & 0.150 & 0.689 & 2.13 \\\\\n",
      "Balanced Softmax               & 49.8900 & 0.168 & 0.673 & 2.07 \\\\\n",
      "PC Softmax                     & 49.4400 & 0.174 & 0.678 & 2.10 \\\\\n",
      "LADE                           & 50.5400 & 0.148 & 0.658 & 2.02 \\\\\n"
     ]
    }
   ],
   "source": [
    "from uncertainty_metrics.numpy import ece\n",
    "\n",
    "def brier(labels, probs):\n",
    "    confids = probs[np.arange(len(labels)), labels]\n",
    "    return (np.square(probs).sum(1) - 2 * confids + 1).mean()\n",
    "\n",
    "def nll(labels, probs):\n",
    "    confids = probs[np.arange(len(labels)), labels]\n",
    "    confids = np.clip(confids, 1e-15, 1.)\n",
    "    return np.mean(-np.log(confids))\n",
    "\n",
    "def accuracy(labels, probs):\n",
    "    return (probs.argmax(1) == labels).mean()\n",
    "\n",
    "prior = get_prior('test')\n",
    "\n",
    "method_names = {\n",
    "    'softmax': 'Softmax',\n",
    "    \"pc_softmax\": \"PC Softmax\",\n",
    "    \"bs\": \"Balanced Softmax\",\n",
    "    \"causal\": \"Causal Norm\",\n",
    "    \"lade\": \"LADE\",\n",
    "}\n",
    "\n",
    "\n",
    "for plt_index, method in enumerate(['softmax', 'causal', 'bs', 'pc_softmax', 'lade']):\n",
    "    labels = get_labels(method)\n",
    "    probs = get_prob(get_logits(method), prior, method)    \n",
    "    print(f'{method_names[method]:30s} & {accuracy(labels, probs)*100:.4f} & {ece(labels, probs, num_bins=20):.3f} & {brier(labels, probs):.3f} & {nll(labels, probs):.2f} \\\\\\\\')\n"
   ]
  },
  {
   "cell_type": "code",
   "execution_count": 6,
   "metadata": {},
   "outputs": [
    {
     "data": {
      "image/png": "[encoded data removed]",
      "text/plain": [
       "<Figure size 1440x360 with 4 Axes>"
      ]
     },
     "metadata": {
      "needs_background": "light"
     },
     "output_type": "display_data"
    }
   ],
   "source": [
    "%matplotlib inline\n",
    "\n",
    "prior = get_prior('test')\n",
    "\n",
    "matplotlib.rcParams.update({'font.size': 16})\n",
    "fig, axes = plt.subplots(1, 4, figsize=(20, 5), sharey=False, sharex=True)\n",
    "\n",
    "method_names = {\n",
    "    \"pc_softmax\": \"PC Softmax\",\n",
    "    \"bs\": \"Balanced Softmax\",\n",
    "    \"causal\": \"Causal Norm\",\n",
    "    \"lade\": \"LADE\",\n",
    "}\n",
    "\n",
    "methods = ['bs', 'causal', 'pc_softmax', 'lade']\n",
    "for plt_index, method in enumerate(methods):\n",
    "    labels = get_labels(method)\n",
    "    probs = get_prob(get_logits(method), prior, method)\n",
    "    estims = probs.argmax(1)\n",
    "\n",
    "    confids = []\n",
    "    step = 0.05\n",
    "    for i in np.arange(0, 1, step):\n",
    "        mask = (i < probs.max(1)) & (probs.max(1) <= i + step)\n",
    "        if np.sum(mask) == 0:\n",
    "            confids.append(0.0)\n",
    "        else:\n",
    "            confids.append((estims[mask] == labels[mask]).mean())\n",
    "    axes[plt_index].bar(np.arange(0, 1, step), np.arange(step, 1+step, step), color=\"#1976d2\", width=step, edgecolor='black', align='edge', alpha=0.4, label='Ideal')\n",
    "    axes[plt_index].bar(np.arange(0, 1, step), confids, width=step, color=\"#004ba0\", edgecolor='black', align='edge', alpha=0.6, label='Outputs')\n",
    "    ece_val = ece(labels, probs, num_bins=20)\n",
    "    \n",
    "    axes[plt_index].set_ylim(0, 1)\n",
    "    axes[plt_index].set_xlim(0, 1)\n",
    "    axes[plt_index].legend(loc=(0.08, 0.58))\n",
    "\n",
    "    acc = (labels == estims).mean()\n",
    "    if method == 'lade':\n",
    "        axes[plt_index].set_title(method_names[method])\n",
    "        axes[plt_index].text(0.1, 0.85, f'ECE: {ece_val:.4f}', {'color': 'black', 'fontsize': 16}, va=\"top\", ha=\"left\", weight='bold')\n",
    "        axes[plt_index].text(0.1, 0.93, f'Accuracy: {acc:.4f}', {'color': 'black', 'fontsize': 16}, va=\"top\", ha=\"left\", weight='bold')\n",
    "    else:\n",
    "        axes[plt_index].set_title(method_names[method])\n",
    "        axes[plt_index].text(0.1, 0.85, f'ECE: {ece_val:.4f}', {'color': 'black', 'fontsize': 16}, va=\"top\", ha=\"left\")\n",
    "        axes[plt_index].text(0.1, 0.93, f'Accuracy: {acc:.4f}', {'color': 'black', 'fontsize': 16}, va=\"top\", ha=\"left\")\n",
    "    plt.ylim(0, 1)\n",
    "    plt.xlim(0, 1)\n",
    "    \n",
    "    if plt_index == 0:\n",
    "#         axes[plt_index].legend(loc=(0.08, 0.63))\n",
    "        axes[plt_index].set_ylabel('Accuracy', fontsize=20)\n",
    "\n",
    "fig.text(0.5, 0.0, 'Confidence', {'color': 'black', 'fontsize': 18}, ha='center')\n",
    "plt.tight_layout()\n",
    "plt.show()\n",
    "\n",
    "fig.savefig(\"4_CIFAR-imb0.02_Confidence_Calibration.pdf\")"
   ]
  }
 ],
 "metadata": {
  "kernelspec": {
   "display_name": "Python 3",
   "language": "python",
   "name": "python3"
  },
  "language_info": {
   "codemirror_mode": {
    "name": "ipython",
    "version": 3
   },
   "file_extension": ".py",
   "mimetype": "text/x-python",
   "name": "python",
   "nbconvert_exporter": "python",
   "pygments_lexer": "ipython3",
   "version": "3.7.7"
  }
 },
 "nbformat": 4,
 "nbformat_minor": 4
}
