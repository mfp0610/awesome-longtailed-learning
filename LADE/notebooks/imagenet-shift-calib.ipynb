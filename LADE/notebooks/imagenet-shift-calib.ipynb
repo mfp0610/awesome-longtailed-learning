{
 "cells": [
  {
   "cell_type": "code",
   "execution_count": 1,
   "metadata": {},
   "outputs": [],
   "source": [
    "%matplotlib notebook\n",
    "\n",
    "import numpy as np\n",
    "import matplotlib\n",
    "from glob import glob\n",
    "import matplotlib.pyplot as plt\n",
    "from scipy.special import softmax\n",
    "from tabulate import tabulate\n",
    "import collections\n",
    "from tqdm import tqdm\n",
    "import texttable, latextable\n",
    "from uncertainty_metrics.numpy import ece\n",
    "\n",
    "workdir = '.'"
   ]
  },
  {
   "cell_type": "code",
   "execution_count": 2,
   "metadata": {},
   "outputs": [],
   "source": [
    "def get_prior(split):\n",
    "    assert split in ('train', 'val', 'test')\n",
    "    l = []\n",
    "    for line in open(f'data/ImageNet_LT/ImageNet_LT_{split}.txt').readlines():\n",
    "        l.append(int(line.strip().split()[-1]))\n",
    "    ret = np.zeros(max(l)+1)\n",
    "    for x in l:\n",
    "        ret[x] += 1\n",
    "    return ret / ret.sum()"
   ]
  },
  {
   "cell_type": "code",
   "execution_count": 14,
   "metadata": {},
   "outputs": [],
   "source": [
    "def class_distribution(name, img_max=50, class_total=1000):\n",
    "    cls_idx = get_prior('train').argsort()    \n",
    "    def imb(imb_factor, reverse):\n",
    "        img_num_per_cls = np.zeros_like(cls_idx)\n",
    "        for idx, cls in enumerate(cls_idx[::-1]):\n",
    "            if reverse:\n",
    "                num = img_max * (imb_factor**((class_total - 1 - idx) / (class_total - 1.0)))\n",
    "            else:\n",
    "                num = img_max * (imb_factor**(idx / (class_total - 1.0)))\n",
    "            img_num_per_cls[cls] = num  \n",
    "        return img_num_per_cls\n",
    "        \n",
    "    \n",
    "    rand_machine = np.random.RandomState(seed=1)\n",
    "    distrb = {\n",
    "        'uniform': np.array([img_max] * class_total),\n",
    "        'forward-50': imb(0.02, False),\n",
    "        'forward-25': imb(0.04, False),\n",
    "        'forward-10': imb(0.1, False),\n",
    "        'forward-5': imb(0.2, False),\n",
    "        'forward-2': imb(0.5, False),\n",
    "        'backward-50': imb(0.02, True),\n",
    "        'backward-25': imb(0.04, True),\n",
    "        'backward-10': imb(0.1, True),\n",
    "        'backward-5': imb(0.2, True),\n",
    "        'backward-2': imb(0.5, True),\n",
    "    }[name]\n",
    "    return distrb, distrb / distrb.sum()\n",
    "\n",
    "\n",
    "def get_mask(labels, distrb):\n",
    "    distrb = np.array(distrb)\n",
    "    mask = np.zeros_like(labels).astype(bool)\n",
    "    for i, label in enumerate(labels):\n",
    "        if distrb[label] > 0:\n",
    "            distrb[label] -= 1\n",
    "            mask[i] = True\n",
    "    return mask\n",
    "\n",
    "\n",
    "def get_prob(logits, prior, name):\n",
    "    old_prior = get_prior('train')\n",
    "    source_logprior = np.log(old_prior)\n",
    "    target_logprior = np.log(prior)\n",
    "    if 'pc_' in name or 'lade' in name:\n",
    "        return softmax(logits + target_logprior, axis=1)\n",
    "    elif 'bs' in name or 'causal' in name:\n",
    "        return softmax(logits, axis=1)\n",
    "    else:\n",
    "        return softmax(logits + source_logprior, axis=1)\n",
    "\n",
    "def get_labels(name, split='test'):\n",
    "    if 'pc_' in name:\n",
    "        name = name[3:]\n",
    "    path = f'{workdir}/lade21-lade/checkpoints/imagenet'\n",
    "    return {\n",
    "        'bs': np.load(f\"{path}/bs/{split}_total_labels.npy\"),\n",
    "        'causal': np.load(f\"{path}/causal/{split}_total_labels.npy\"),\n",
    "        'softmax': np.load(f\"{path}/ce/{split}_total_labels.npy\"),\n",
    "        'lade': np.load(f\"{path}/lade/{split}_total_labels.npy\"),\n",
    "    }[name]\n",
    "\n",
    "def get_logits(name, split='test'):\n",
    "    if 'pc_' in name:\n",
    "        name = name[3:]\n",
    "    path = f'{workdir}/lade21-lade/checkpoints/imagenet'\n",
    "    return {\n",
    "        'bs': np.load(f\"{path}/bs/{split}_total_logits.npy\") - np.log(get_prior('test')),\n",
    "        'causal': np.load(f\"{path}/causal/{split}_total_logits.npy\") - np.log(get_prior('test')),\n",
    "        'softmax': np.load(f\"{path}/ce/{split}_total_logits.npy\"),\n",
    "        'lade': np.load(f\"{path}/lade/{split}_total_logits.npy\") - np.log(get_prior('test')),\n",
    "    }[name]"
   ]
  },
  {
   "cell_type": "markdown",
   "metadata": {},
   "source": [
    "# Evaluate on shifted test set"
   ]
  },
  {
   "cell_type": "code",
   "execution_count": 16,
   "metadata": {},
   "outputs": [
    {
     "name": "stderr",
     "output_type": "stream",
     "text": [
      "100%|██████████| 11/11 [06:16<00:00, 34.23s/it]"
     ]
    },
    {
     "name": "stdout",
     "output_type": "stream",
     "text": [
      "dataset        bs    causal    softmax    pc_bs    pc_causal    pc_softmax    lade\n",
      "-----------  ----  --------  ---------  -------  -----------  ------------  ------\n",
      "forward-50   62.5      64.1       66.3     65.5         66.7          66.6    67.4\n",
      "forward-25   60.9      62.5       63.9     63.1         64.3          63.9    64.8\n",
      "forward-10   58.8      60.1       60.4     59.9         60.9          60.6    61.3\n",
      "forward-5    57.0      57.8       57.1     57.3         58.1          58.1    58.6\n",
      "forward-2    54.4      54.6       52.3     54.3         54.6          55.0    55.2\n",
      "uniform      52.1      52.0       48.2     52.1         52.0          52.8    53.0\n",
      "backward-2   49.6      49.3       44.2     50.2         49.8          51.0    51.2\n",
      "backward-5   46.5      45.8       38.9     48.8         47.9          49.3    49.8\n",
      "backward-10  44.1      43.4       35.0     48.3         47.0          48.8    49.2\n",
      "backward-25  41.4      40.4       30.5     48.5         46.7          48.5    49.3\n",
      "backward-50  39.7      38.4       27.9     49.0         46.7          49.0    50.0\n"
     ]
    },
    {
     "name": "stderr",
     "output_type": "stream",
     "text": [
      "\n"
     ]
    }
   ],
   "source": [
    "methods = ['bs', 'causal', 'softmax', 'pc_bs', 'pc_causal', 'pc_softmax', 'lade']\n",
    "table = []\n",
    "for dataset in tqdm([\n",
    "    'forward-50', 'forward-25', 'forward-10', 'forward-5', 'forward-2',\n",
    "    'uniform',\n",
    "    'backward-2', 'backward-5', 'backward-10', 'backward-25', 'backward-50',\n",
    "]):\n",
    "    table.append([dataset])\n",
    "    for method in methods:\n",
    "        distrb, prior = class_distribution(dataset)\n",
    "        labels = get_labels(method)\n",
    "        estims = get_prob(get_logits(method), prior, method).argmax(1)\n",
    "        mask = get_mask(labels, distrb)\n",
    "        table[-1].append((labels[mask] == estims[mask]).mean() * 100)\n",
    "\n",
    "print(tabulate(table, headers=['dataset'] + methods, floatfmt=\".1f\"))\n"
   ]
  },
  {
   "cell_type": "markdown",
   "metadata": {},
   "source": [
    "# Evaluate confidence calibration"
   ]
  },
  {
   "cell_type": "code",
   "execution_count": 20,
   "metadata": {},
   "outputs": [
    {
     "name": "stdout",
     "output_type": "stream",
     "text": [
      "Softmax                        & 48.2 & 0.140 & 0.688 & 2.47 \\\\\n",
      "Causal Norm                    & 52.0 & 0.108 & 0.634 & 2.42 \\\\\n",
      "Balanced Softmax               & 52.1 & 0.061 & 0.621 & 2.20 \\\\\n",
      "PC Softmax                     & 52.8 & 0.057 & 0.615 & 2.17 \\\\\n",
      "LADE                           & 53.0 & 0.035 & 0.611 & 2.18 \\\\\n"
     ]
    }
   ],
   "source": [
    "from uncertainty_metrics.numpy import ece\n",
    "\n",
    "def brier(labels, probs):\n",
    "    confids = probs[np.arange(len(labels)), labels]\n",
    "    return (np.square(probs).sum(1) - 2 * confids + 1).mean()\n",
    "\n",
    "def nll(labels, probs):\n",
    "    confids = probs[np.arange(len(labels)), labels]\n",
    "    confids = np.clip(confids, 1e-15, 1.)\n",
    "    return np.mean(-np.log(confids))\n",
    "\n",
    "def accuracy(labels, probs):\n",
    "    return (probs.argmax(1) == labels).mean()\n",
    "\n",
    "prior = get_prior('test')\n",
    "\n",
    "method_names = {\n",
    "    'softmax': 'Softmax',\n",
    "    \"pc_softmax\": \"PC Softmax\",\n",
    "    \"bs\": \"Balanced Softmax\",\n",
    "    \"causal\": \"Causal Norm\",\n",
    "    \"lade\": \"LADE\",\n",
    "}\n",
    "\n",
    "for plt_index, method in enumerate(['softmax', 'causal', 'bs', 'pc_softmax', 'lade']):\n",
    "    labels = get_labels(method)\n",
    "    probs = get_prob(get_logits(method), prior, method)    \n",
    "    print(f'{method_names[method]:30s} & {accuracy(labels, probs)*100:.1f} & {ece(labels, probs, num_bins=20):.3f} & {brier(labels, probs):.3f} & {nll(labels, probs):.2f} \\\\\\\\')\n"
   ]
  },
  {
   "cell_type": "code",
   "execution_count": 27,
   "metadata": {},
   "outputs": [
    {
     "data": {
      "image/png": "[encoded data removed]",
      "text/plain": [
       "<Figure size 1440x360 with 4 Axes>"
      ]
     },
     "metadata": {
      "needs_background": "light"
     },
     "output_type": "display_data"
    }
   ],
   "source": [
    "%matplotlib inline\n",
    "\n",
    "old_prior = get_prior('train')\n",
    "prior = get_prior('test')\n",
    "\n",
    "matplotlib.rcParams.update({'font.size': 16})\n",
    "fig, axes = plt.subplots(1, 4, figsize=(20, 5), sharey=False, sharex=True)\n",
    "\n",
    "method_names = {\n",
    "    \"pc_softmax\": \"PC Softmax\",\n",
    "    \"bs\": \"Balanced Softmax\",\n",
    "    \"causal\": \"Causal Norm\",\n",
    "    \"lade\": \"LADE\",\n",
    "}\n",
    "\n",
    "methods = ['bs', 'causal', 'pc_softmax', 'lade']\n",
    "for plt_index, method in enumerate(methods):\n",
    "    labels = get_labels(method)\n",
    "    probs = get_prob(get_logits(method), prior, method)\n",
    "    estims = probs.argmax(1)\n",
    "\n",
    "    confids = []\n",
    "    step = 0.05\n",
    "    for i in np.arange(0, 1, step):\n",
    "        mask = (i < probs.max(1)) & (probs.max(1) <= i + step)\n",
    "        if np.sum(mask) == 0:\n",
    "            confids.append(0.0)\n",
    "        else:\n",
    "            confids.append((estims[mask] == labels[mask]).mean())\n",
    "    axes[plt_index].bar(np.arange(0, 1, step), np.arange(step, 1+step, step), color=\"#1976d2\", width=step, edgecolor='black', align='edge', alpha=0.4, label='Ideal')\n",
    "    axes[plt_index].bar(np.arange(0, 1, step), confids, width=step, color=\"#004ba0\", edgecolor='black', align='edge', alpha=0.6, label='Outputs')\n",
    "    ece_val = ece(labels, probs, num_bins=20)\n",
    "    \n",
    "    axes[plt_index].set_ylim(0, 1)\n",
    "    axes[plt_index].set_xlim(0, 1)\n",
    "    axes[plt_index].legend(loc=(0.08, 0.58))\n",
    "\n",
    "    acc = (labels == estims).mean()\n",
    "    if method == 'lade':\n",
    "        axes[plt_index].set_title(method_names[method])\n",
    "        axes[plt_index].text(0.1, 0.85, f'ECE: {ece_val:.4f}', {'color': 'black', 'fontsize': 16}, va=\"top\", ha=\"left\", weight='bold')\n",
    "        axes[plt_index].text(0.1, 0.93, f'Accuracy: {acc:.4f}', {'color': 'black', 'fontsize': 16}, va=\"top\", ha=\"left\", weight='bold')\n",
    "    else:\n",
    "        axes[plt_index].set_title(method_names[method])\n",
    "        axes[plt_index].text(0.1, 0.85, f'ECE: {ece_val:.4f}', {'color': 'black', 'fontsize': 16}, va=\"top\", ha=\"left\")\n",
    "        axes[plt_index].text(0.1, 0.93, f'Accuracy: {acc:.4f}', {'color': 'black', 'fontsize': 16}, va=\"top\", ha=\"left\")\n",
    "    plt.ylim(0, 1)\n",
    "    plt.xlim(0, 1)\n",
    "    \n",
    "    if plt_index == 0:\n",
    "#         axes[plt_index].legend(loc=(0.08, 0.63))\n",
    "        axes[plt_index].set_ylabel('Accuracy', fontsize=20)\n",
    "\n",
    "fig.text(0.5, 0.0, 'Confidence', {'color': 'black', 'fontsize': 18}, ha='center')\n",
    "plt.tight_layout()\n",
    "plt.show()\n",
    "\n",
    "fig.savefig(\"4_ImageNet_Confidence_Calibration.pdf\")"
   ]
  },
  {
   "cell_type": "code",
   "execution_count": null,
   "metadata": {},
   "outputs": [],
   "source": []
  }
 ],
 "metadata": {
  "kernelspec": {
   "display_name": "Python 3",
   "language": "python",
   "name": "python3"
  },
  "language_info": {
   "codemirror_mode": {
    "name": "ipython",
    "version": 3
   },
   "file_extension": ".py",
   "mimetype": "text/x-python",
   "name": "python",
   "nbconvert_exporter": "python",
   "pygments_lexer": "ipython3",
   "version": "3.7.7"
  }
 },
 "nbformat": 4,
 "nbformat_minor": 4
}
